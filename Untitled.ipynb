{
 "cells": [
  {
   "cell_type": "code",
   "execution_count": 1,
   "metadata": {},
   "outputs": [
    {
     "name": "stderr",
     "output_type": "stream",
     "text": [
      "Using TensorFlow backend.\n"
     ]
    }
   ],
   "source": [
    "import os\n",
    "import glob\n",
    "import csv\n",
    "import pandas as pd\n",
    "import keras"
   ]
  },
  {
   "cell_type": "code",
   "execution_count": 2,
   "metadata": {},
   "outputs": [],
   "source": [
    "import numpy as np"
   ]
  },
  {
   "cell_type": "code",
   "execution_count": 24,
   "metadata": {},
   "outputs": [
    {
     "name": "stdout",
     "output_type": "stream",
     "text": [
      "['D:\\\\race_dataset\\\\race_dataset\\\\UTKface_Aligned&cropped-20180901T075837Z-001\\\\UTKface_Aligned_cropped\\\\crop_part1.tar\\\\crop_part1\\\\100_1_0_20170110183726390.jpg.chip.jpg', 'D:\\\\race_dataset\\\\race_dataset\\\\UTKface_Aligned&cropped-20180901T075837Z-001\\\\UTKface_Aligned_cropped\\\\crop_part1.tar\\\\crop_part1\\\\100_1_2_20170105174847679.jpg.chip.jpg', 'D:\\\\race_dataset\\\\race_dataset\\\\UTKface_Aligned&cropped-20180901T075837Z-001\\\\UTKface_Aligned_cropped\\\\crop_part1.tar\\\\crop_part1\\\\101_1_2_20170105174739309.jpg.chip.jpg', 'D:\\\\race_dataset\\\\race_dataset\\\\UTKface_Aligned&cropped-20180901T075837Z-001\\\\UTKface_Aligned_cropped\\\\crop_part1.tar\\\\crop_part1\\\\10_0_0_20161220222308131.jpg.chip.jpg', 'D:\\\\race_dataset\\\\race_dataset\\\\UTKface_Aligned&cropped-20180901T075837Z-001\\\\UTKface_Aligned_cropped\\\\crop_part1.tar\\\\crop_part1\\\\10_0_0_20170103200329407.jpg.chip.jpg', 'D:\\\\race_dataset\\\\race_dataset\\\\UTKface_Aligned&cropped-20180901T075837Z-001\\\\UTKface_Aligned_cropped\\\\crop_part1.tar\\\\crop_part1\\\\10_0_0_20170103200522151.jpg.chip.jpg', 'D:\\\\race_dataset\\\\race_dataset\\\\UTKface_Aligned&cropped-20180901T075837Z-001\\\\UTKface_Aligned_cropped\\\\crop_part1.tar\\\\crop_part1\\\\10_0_0_20170103233459275.jpg.chip.jpg', 'D:\\\\race_dataset\\\\race_dataset\\\\UTKface_Aligned&cropped-20180901T075837Z-001\\\\UTKface_Aligned_cropped\\\\crop_part1.tar\\\\crop_part1\\\\10_0_0_20170104013211746.jpg.chip.jpg', 'D:\\\\race_dataset\\\\race_dataset\\\\UTKface_Aligned&cropped-20180901T075837Z-001\\\\UTKface_Aligned_cropped\\\\crop_part1.tar\\\\crop_part1\\\\10_0_0_20170110215927291.jpg.chip.jpg', 'D:\\\\race_dataset\\\\race_dataset\\\\UTKface_Aligned&cropped-20180901T075837Z-001\\\\UTKface_Aligned_cropped\\\\crop_part1.tar\\\\crop_part1\\\\10_0_0_20170110220033115.jpg.chip.jpg']\n"
     ]
    }
   ],
   "source": [
    "\n",
    "file_names = glob.glob(r\"D:\\race_dataset\\race_dataset\\UTKface_Aligned&cropped-20180901T075837Z-001\\UTKface_Aligned_cropped\\crop_part1.tar\\**\\*.jpg\")\n",
    "print((file_names[:10]))"
   ]
  },
  {
   "cell_type": "code",
   "execution_count": 25,
   "metadata": {},
   "outputs": [],
   "source": [
    "def make_csv( paths = [], extension = '*.jpg'):\n",
    "    output_list = {'path': [], 'age': [], 'gender': [], 'race': []}\n",
    "    for path in paths:\n",
    "        _temp = glob.glob(os.path.join(path ,extension))\n",
    "        for file in _temp:\n",
    "            #print(file)\n",
    "            output = file.split(\"\\\\\")[-1].split(r'_')\n",
    "            if (len(output) != 4 or int(output[0]) > 100):\n",
    "                continue\n",
    "            output_list['path'].append(file)\n",
    "            output_list['age'].append(output[0])\n",
    "            output_list['gender'].append(output[1])\n",
    "            output_list['race'].append(output[2])\n",
    "    df = pd.DataFrame(data=output_list)\n",
    "    df.to_csv('age_gender_race.csv', sep =',', index = False)\n",
    "    return output_list\n",
    "            \n",
    "            \n",
    "        "
   ]
  },
  {
   "cell_type": "code",
   "execution_count": 26,
   "metadata": {},
   "outputs": [
    {
     "data": {
      "text/plain": [
       "['100', '1', '2', '20170105174847679.jpg.chip.jpg']"
      ]
     },
     "execution_count": 26,
     "metadata": {},
     "output_type": "execute_result"
    }
   ],
   "source": [
    "file_names[1].split(\"\\\\\")[-1].split(\"_\")"
   ]
  },
  {
   "cell_type": "code",
   "execution_count": 27,
   "metadata": {},
   "outputs": [],
   "source": [
    "output = make_csv([os.path.join('dataset','crop_part1.tar','crop_part1'),\n",
    "                   os.path.join('dataset','UTKFace.tar','UTKFace')])"
   ]
  },
  {
   "cell_type": "code",
   "execution_count": 50,
   "metadata": {},
   "outputs": [],
   "source": [
    "import csv\n",
    "data = []\n",
    "with open('age_gender_race.csv') as f:\n",
    "    f_csv = csv.reader(f) \n",
    "    headers = next(f_csv)\n",
    "    for row in f_csv:\n",
    "        data.append(row)\n"
   ]
  },
  {
   "cell_type": "code",
   "execution_count": 47,
   "metadata": {},
   "outputs": [],
   "source": [
    "ip = pd.read_csv('age_gender_race.csv', skiprows=1)"
   ]
  },
  {
   "cell_type": "code",
   "execution_count": 52,
   "metadata": {},
   "outputs": [
    {
     "data": {
      "text/plain": [
       "path      dataset\\UTKFace.tar\\UTKFace\\100_0_0_2017011221...\n",
       "age                                                       1\n",
       "gender                                                    0\n",
       "race                                                      0\n",
       "dtype: object"
      ]
     },
     "execution_count": 52,
     "metadata": {},
     "output_type": "execute_result"
    }
   ],
   "source": [
    "data = pd.read_csv('age_gender_race.csv')\n",
    "data.min()"
   ]
  },
  {
   "cell_type": "code",
   "execution_count": null,
   "metadata": {},
   "outputs": [],
   "source": []
  }
 ],
 "metadata": {
  "kernelspec": {
   "display_name": "Python 3",
   "language": "python",
   "name": "python3"
  },
  "language_info": {
   "codemirror_mode": {
    "name": "ipython",
    "version": 3
   },
   "file_extension": ".py",
   "mimetype": "text/x-python",
   "name": "python",
   "nbconvert_exporter": "python",
   "pygments_lexer": "ipython3",
   "version": "3.6.6"
  }
 },
 "nbformat": 4,
 "nbformat_minor": 2
}
